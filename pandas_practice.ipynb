{
 "cells": [
  {
   "cell_type": "code",
   "execution_count": 39,
   "id": "af2810da",
   "metadata": {},
   "outputs": [],
   "source": [
    "def addition (a,b,c):\n",
    "    a=10\n",
    "    b=20\n",
    "    c=30\n",
    "    d=a+b+c\n",
    "    return (d)"
   ]
  },
  {
   "cell_type": "code",
   "execution_count": 40,
   "id": "ac7f0023",
   "metadata": {},
   "outputs": [
    {
     "data": {
      "text/plain": [
       "60"
      ]
     },
     "execution_count": 40,
     "metadata": {},
     "output_type": "execute_result"
    }
   ],
   "source": [
    "addition (10,20,30)"
   ]
  },
  {
   "cell_type": "code",
   "execution_count": 59,
   "id": "3208a4d0",
   "metadata": {},
   "outputs": [],
   "source": [
    "def addition ():\n",
    "    a=10\n",
    "    b=20\n",
    "    c=a+b\n",
    "    return (c)"
   ]
  },
  {
   "cell_type": "code",
   "execution_count": 60,
   "id": "97ccc2d6",
   "metadata": {},
   "outputs": [
    {
     "data": {
      "text/plain": [
       "30"
      ]
     },
     "execution_count": 60,
     "metadata": {},
     "output_type": "execute_result"
    }
   ],
   "source": [
    "addition ()"
   ]
  },
  {
   "cell_type": "code",
   "execution_count": 62,
   "id": "d0c9173a",
   "metadata": {},
   "outputs": [],
   "source": [
    "def multiplication ():\n",
    "    a=10\n",
    "    b=20\n",
    "    c=a*b\n",
    "    return(c)\n"
   ]
  },
  {
   "cell_type": "code",
   "execution_count": 63,
   "id": "1250a086",
   "metadata": {},
   "outputs": [
    {
     "data": {
      "text/plain": [
       "200"
      ]
     },
     "execution_count": 63,
     "metadata": {},
     "output_type": "execute_result"
    }
   ],
   "source": [
    "multiplication ()"
   ]
  },
  {
   "cell_type": "code",
   "execution_count": 64,
   "id": "bb244228",
   "metadata": {},
   "outputs": [],
   "source": [
    "def substraction (a,b):\n",
    "    \n",
    "    c=a-b\n",
    "    return(c)\n"
   ]
  },
  {
   "cell_type": "code",
   "execution_count": 66,
   "id": "3d9cb9b8",
   "metadata": {},
   "outputs": [
    {
     "data": {
      "text/plain": [
       "125"
      ]
     },
     "execution_count": 66,
     "metadata": {},
     "output_type": "execute_result"
    }
   ],
   "source": [
    "substraction (300,175)"
   ]
  },
  {
   "cell_type": "code",
   "execution_count": null,
   "id": "7068e9c8",
   "metadata": {},
   "outputs": [],
   "source": [
    "def division ():\n",
    "    \n"
   ]
  },
  {
   "cell_type": "code",
   "execution_count": 1,
   "id": "778524f9",
   "metadata": {},
   "outputs": [],
   "source": [
    "def ipl_zomato(predictscore,score):\n",
    "    if score<150:\n",
    "        retun=predictscore*.10\n",
    "    elif score>=150 and score<=200:\n",
    "        retun=predictscore*.20\n",
    "    elif score>200:\n",
    "        retun=predictscore*.50\n",
    "    else:\n",
    "        retun=notavailable\n",
    "    return retun\n"
   ]
  },
  {
   "cell_type": "code",
   "execution_count": 2,
   "id": "eb84bf15",
   "metadata": {},
   "outputs": [
    {
     "data": {
      "text/plain": [
       "46.0"
      ]
     },
     "execution_count": 2,
     "metadata": {},
     "output_type": "execute_result"
    }
   ],
   "source": [
    "ipl_zomato(230,200)"
   ]
  },
  {
   "cell_type": "code",
   "execution_count": null,
   "id": "38fce866",
   "metadata": {},
   "outputs": [],
   "source": []
  },
  {
   "cell_type": "code",
   "execution_count": null,
   "id": "82f46b1d",
   "metadata": {},
   "outputs": [],
   "source": []
  },
  {
   "cell_type": "code",
   "execution_count": null,
   "id": "f70566b6",
   "metadata": {},
   "outputs": [],
   "source": []
  }
 ],
 "metadata": {
  "kernelspec": {
   "display_name": "Python 3 (ipykernel)",
   "language": "python",
   "name": "python3"
  },
  "language_info": {
   "codemirror_mode": {
    "name": "ipython",
    "version": 3
   },
   "file_extension": ".py",
   "mimetype": "text/x-python",
   "name": "python",
   "nbconvert_exporter": "python",
   "pygments_lexer": "ipython3",
   "version": "3.10.9"
  }
 },
 "nbformat": 4,
 "nbformat_minor": 5
}
